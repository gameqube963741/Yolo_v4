{
  "nbformat": 4,
  "nbformat_minor": 0,
  "metadata": {
    "colab": {
      "name": "Yolo_v4.ipynb",
      "provenance": [],
      "collapsed_sections": [],
      "authorship_tag": "ABX9TyNULeGghUcbEVvQWi3ClQfa",
      "include_colab_link": true
    },
    "kernelspec": {
      "name": "python3",
      "display_name": "Python 3"
    },
    "accelerator": "GPU"
  },
  "cells": [
    {
      "cell_type": "markdown",
      "metadata": {
        "id": "view-in-github",
        "colab_type": "text"
      },
      "source": [
        "<a href=\"https://colab.research.google.com/github/gameqube963741/Yolo_v4/blob/master/Yolo_v4.ipynb\" target=\"_parent\"><img src=\"https://colab.research.google.com/assets/colab-badge.svg\" alt=\"Open In Colab\"/></a>"
      ]
    },
    {
      "cell_type": "code",
      "metadata": {
        "id": "jD6pmOOfuhhg"
      },
      "source": [
        "! nvidia-smi"
      ],
      "execution_count": null,
      "outputs": []
    },
    {
      "cell_type": "markdown",
      "metadata": {
        "id": "qjMSn6VHzB_q"
      },
      "source": [
        "# https://github.com/AlexeyAB/darknet"
      ]
    },
    {
      "cell_type": "code",
      "metadata": {
        "id": "eIkUzz99uqRq"
      },
      "source": [
        "! git clone https://github.com/AlexeyAB/darknet.git"
      ],
      "execution_count": null,
      "outputs": []
    },
    {
      "cell_type": "code",
      "metadata": {
        "id": "p00WRKRBvhbn"
      },
      "source": [
        "! head darknet/Makefile"
      ],
      "execution_count": null,
      "outputs": []
    },
    {
      "cell_type": "code",
      "metadata": {
        "id": "mEgbKRfZv7zW"
      },
      "source": [
        "! sed -i \"s/GPU=0/GPU=1/g\" /content/darknet/Makefile\n",
        "! sed -i \"s/CUDNN=0/CUDNN=1/g\" /content/darknet/Makefile\n",
        "! sed -i \"s/OPENCV=0/OPENCV=1/g\" /content/darknet/Makefile"
      ],
      "execution_count": null,
      "outputs": []
    },
    {
      "cell_type": "code",
      "metadata": {
        "id": "3Pk4F60Hwfid"
      },
      "source": [
        "! head darknet/Makefile"
      ],
      "execution_count": null,
      "outputs": []
    },
    {
      "cell_type": "code",
      "metadata": {
        "id": "1mS8CvvvwiGE"
      },
      "source": [
        "! cd darknet; make"
      ],
      "execution_count": null,
      "outputs": []
    },
    {
      "cell_type": "code",
      "metadata": {
        "id": "ZpXPhwv0wkvK"
      },
      "source": [
        "! cd darknet ; ./darknet"
      ],
      "execution_count": null,
      "outputs": []
    },
    {
      "cell_type": "code",
      "metadata": {
        "id": "8xz5FdjKw8a3"
      },
      "source": [
        "! gdown https://drive.google.com/uc?id=1cewMfusmPjYWbrnuJRuKhPMwRe_b9PaT"
      ],
      "execution_count": null,
      "outputs": []
    },
    {
      "cell_type": "code",
      "metadata": {
        "id": "gPNc69YFxC_C"
      },
      "source": [
        "! ls darknet/data"
      ],
      "execution_count": null,
      "outputs": []
    },
    {
      "cell_type": "code",
      "metadata": {
        "id": "n_0JL0-AxSdm"
      },
      "source": [
        "from PIL import Image\n",
        "Image.open('darknet/data/person.jpg')"
      ],
      "execution_count": null,
      "outputs": []
    },
    {
      "cell_type": "code",
      "metadata": {
        "id": "AbkshOmjxdL6"
      },
      "source": [
        "! cd darknet; ./darknet detect /content/darknet/cfg/yolov4.cfg  /content/yolov4.weights /content/darknet/data/person.jpg"
      ],
      "execution_count": null,
      "outputs": []
    },
    {
      "cell_type": "code",
      "metadata": {
        "id": "9bDbNfKYxmFK"
      },
      "source": [
        "from PIL import Image\n",
        "Image.open('/content/darknet/predictions.jpg')"
      ],
      "execution_count": null,
      "outputs": []
    }
  ]
}